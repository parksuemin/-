{
 "cells": [
  {
   "cell_type": "code",
   "execution_count": 2,
   "id": "ce2c2c5d",
   "metadata": {},
   "outputs": [
    {
     "name": "stdout",
     "output_type": "stream",
     "text": [
      "vuzahafe0\n",
      "vepadeguz0\n",
      "mawoyeh0\n",
      "luwiw000\n",
      "rovoviga0\n",
      "renayuko0\n",
      "vugarus000\n",
      "gos2000\n",
      "vovigecin00\n",
      "hihodoze\n",
      "luvapax00\n",
      "vezorax00\n",
      "naxeroz0\n",
      "pome000\n",
      "gupe000\n"
     ]
    }
   ],
   "source": [
    "import random\n",
    "js='bcdfghjklmnpqrstvwxyz' #모음과 자음을 나누어 줌\n",
    "ms='aeiou'\n",
    "yy=2000 #입력 받은 생년\n",
    "n=15 #추천 아이디 갯수\n",
    "for i in range(n):\n",
    "    tl=random.randint(7,11) #id 길이 정하기 (7~11)\n",
    "    nl=random.randint(0,4) #생년 자릿수\n",
    "    idc=''\n",
    "#    print(tl,nl)\n",
    "    for j in range(tl-nl):\n",
    "        if j%2 == 0: #자음 모음을 번갈아 만듬\n",
    "            idc+=random.choice(js)\n",
    "        else:\n",
    "            idc+=random.choice(ms)\n",
    "    idc+=str(yy)[4-nl:4]\n",
    "    print(idc)"
   ]
  }
 ],
 "metadata": {
  "kernelspec": {
   "display_name": "Python 3",
   "language": "python",
   "name": "python3"
  },
  "language_info": {
   "codemirror_mode": {
    "name": "ipython",
    "version": 3
   },
   "file_extension": ".py",
   "mimetype": "text/x-python",
   "name": "python",
   "nbconvert_exporter": "python",
   "pygments_lexer": "ipython3",
   "version": "3.8.8"
  }
 },
 "nbformat": 4,
 "nbformat_minor": 5
}
